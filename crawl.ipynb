{
 "cells": [
  {
   "cell_type": "code",
   "execution_count": 12,
   "metadata": {},
   "outputs": [],
   "source": [
    "from selenium import webdriver\n",
    "import time\n",
    "from selenium.webdriver.chrome.service import Service\n",
    "from selenium.webdriver.support.ui import WebDriverWait\n",
    "from selenium.webdriver.common.by import By\n",
    "from selenium.webdriver.support import expected_conditions as EC\n",
    "from PIL import Image\n",
    "import PIL\n",
    "import math\n",
    "import urllib\n",
    "from urllib.request import urlretrieve\n",
    "import cv2\n",
    "import os\n",
    "import numpy as np\n",
    "import pandas as pd"
   ]
  },
  {
   "cell_type": "code",
   "execution_count": 13,
   "metadata": {},
   "outputs": [],
   "source": [
    "os.chdir(r'C:\\Users\\LENOVO\\Documents\\Khóa luận\\Crawl')\n",
    "service = Service(executable_path='./chromedriver.exe')\n",
    "options = webdriver.ChromeOptions()\n",
    "driver = webdriver.Chrome(service=service, options=options)"
   ]
  },
  {
   "cell_type": "code",
   "execution_count": 14,
   "metadata": {},
   "outputs": [],
   "source": [
    "url = \"https://www.lazada.vn/products/quan-ong-rong-that-day-no-vai-ruby-cao-cap-dai-100cm-sieu-hot-quan-ong-rong-nu-i2012721955-s11347974347.html?pvid=7da414e7-82ee-4871-80c1-d75577c6fe33&search=jfy&channelLpJumpArgs=catIdLv1%3A%3BitemImg%3A%3Bhp_click_channelId%3A%3BchannelId%3Acrowd_list%231365762438%3BcategoryId%3A&scm=1007.45039.318630.0&priceCompare=skuId%3A11347974347%3Bsource%3Atpp-recommend-plugin-32104%3Bsn%3A7da414e7-82ee-4871-80c1-d75577c6fe33%3BunionTrace%3A21412bb917229267672226332e88cc%3BoriginPrice%3A59000%3BvoucherPrice%3A59000%3BdisplayPrice%3A59000%3BsourceTag%3A%23auto_collect%231%24auto_collect%24%3BsinglePromotionId%3A-1%3BsingleToolCode%3AmockedSalePrice%3BvoucherPricePlugin%3A1%3BbuyerId%3A0%3ButdId%3A-1%3Btimestamp%3A1722926767403&spm=a2o4n.homepage.just4u.d_2012721955\"\n",
    "driver.get(url)\n",
    "# Đợi trang tải \n",
    "time.sleep(5)"
   ]
  },
  {
   "cell_type": "code",
   "execution_count": 15,
   "metadata": {},
   "outputs": [],
   "source": [
    "name = []\n",
    "price = []\n",
    "store_name = []\n",
    "rating = []\n",
    "review_count = []\n",
    "reviews = []\n",
    "review_dates = []"
   ]
  },
  {
   "cell_type": "code",
   "execution_count": 16,
   "metadata": {},
   "outputs": [
    {
     "name": "stdout",
     "output_type": "stream",
     "text": [
      "Tên sản phẩm: Quần ống rộng thắt dây nơ vải Ruby cao cấp dài 100cm siêu hot, quần ống rộng nữ\n",
      "giá sản phẩm: 59.000 ₫\n"
     ]
    }
   ],
   "source": [
    "# Lấy tên sản phẩm\n",
    "try:\n",
    "    name = driver.find_element(By.XPATH, '//*[@id=\"module_product_title_1\"]/div/div/h1').text\n",
    "    print(f'Tên sản phẩm: {name}')\n",
    "# Lấy giá sản phẩm\n",
    "    price = driver.find_element(By.XPATH, '//*[@id=\"module_product_price_1\"]/div/div/span').text\n",
    "    print(f'giá sản phẩm: {price}')\n",
    "except:\n",
    "    print(f'Không thể lấy dữ liệu: {e}')"
   ]
  },
  {
   "cell_type": "code",
   "execution_count": null,
   "metadata": {},
   "outputs": [],
   "source": []
  },
  {
   "cell_type": "code",
   "execution_count": null,
   "metadata": {},
   "outputs": [],
   "source": []
  }
 ],
 "metadata": {
  "kernelspec": {
   "display_name": "Python 3",
   "language": "python",
   "name": "python3"
  },
  "language_info": {
   "codemirror_mode": {
    "name": "ipython",
    "version": 3
   },
   "file_extension": ".py",
   "mimetype": "text/x-python",
   "name": "python",
   "nbconvert_exporter": "python",
   "pygments_lexer": "ipython3",
   "version": "3.11.9"
  }
 },
 "nbformat": 4,
 "nbformat_minor": 2
}
